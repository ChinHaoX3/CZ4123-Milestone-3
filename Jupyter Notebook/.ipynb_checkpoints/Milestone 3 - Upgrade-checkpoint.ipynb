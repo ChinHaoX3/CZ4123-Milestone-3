{
 "cells": [
  {
   "cell_type": "code",
   "execution_count": null,
   "metadata": {},
   "outputs": [],
   "source": [
    "# import necessary libarries\n",
    "import pandas as pd\n",
    "import numpy as np\n",
    "from scipy.spatial.distance import cdist\n",
    "import matplotlib.pyplot as plt\n",
    "from sklearn.cluster import KMeans\n",
    "import seaborn as sb"
   ]
  },
  {
   "cell_type": "code",
   "execution_count": null,
   "metadata": {},
   "outputs": [],
   "source": [
    "# reading csv file\n",
    "colnames=['Key', 'Values']\n",
    "df = pd.read_csv(\"output5.csv\", sep='\\t', names=colnames, header=None)"
   ]
  },
  {
   "cell_type": "code",
   "execution_count": null,
   "metadata": {},
   "outputs": [],
   "source": [
    "# split column \n",
    "df[['Temperature', 'Humidity']] = df['Values'].str.split(',', expand=True)\n",
    "df[[\"Jan Temperature\", \"Feb Temperature\", \"Mar Temperature\", \"Apr Temperature\",\n",
    "   \"May Temperature\", \"Jun Temperature\", \"Jul Temperature\", \n",
    "   \"Aug Temperature\", \"Sep Temperature\", \"Oct Temperature\", \n",
    "   \"Nov Temperature\", \"Dec Temperature\"]] = df['Temperature'].str.split(';', expand=True)\n",
    "df[[\"Jan Humidity\", \"Feb Humidity\", \"Mar Humidity\", \"Apr Humidity\",\n",
    "   \"May Humidity\", \"Jun Humidity\", \"Jul Humidity\", \n",
    "   \"Aug Humidity\", \"Sep Humidity\", \"Oct Humidity\", \n",
    "   \"Nov Humidity\", \"Dec Humidity\"]] = df['Humidity'].str.split(';', expand=True)\n",
    "\n",
    "df = df.drop([\"Values\"], axis=1)\n",
    "df = df.drop([\"Temperature\"], axis=1)\n",
    "df = df.drop([\"Humidity\"], axis=1)\n",
    "\n",
    "df['Jan Temperature'] = df['Jan Temperature'].astype(float, errors = 'raise')\n",
    "df['Feb Temperature'] = df['Feb Temperature'].astype(float, errors = 'raise')\n",
    "df['Mar Temperature'] = df['Mar Temperature'].astype(float, errors = 'raise')\n",
    "df['Apr Temperature'] = df['Apr Temperature'].astype(float, errors = 'raise')\n",
    "df['May Temperature'] = df['May Temperature'].astype(float, errors = 'raise')\n",
    "df['Jun Temperature'] = df['Jun Temperature'].astype(float, errors = 'raise')\n",
    "df['Jul Temperature'] = df['Jul Temperature'].astype(float, errors = 'raise')\n",
    "df['Aug Temperature'] = df['Aug Temperature'].astype(float, errors = 'raise')\n",
    "df['Sep Temperature'] = df['Sep Temperature'].astype(float, errors = 'raise')\n",
    "df['Oct Temperature'] = df['Oct Temperature'].astype(float, errors = 'raise')\n",
    "df['Nov Temperature'] = df['Nov Temperature'].astype(float, errors = 'raise')\n",
    "df['Dec Temperature'] = df['Dec Temperature'].astype(float, errors = 'raise')\n",
    "\n",
    "df['Jan Humidity'] = df['Jan Humidity'].astype(float, errors = 'raise')\n",
    "df['Feb Humidity'] = df['Feb Humidity'].astype(float, errors = 'raise')\n",
    "df['Mar Humidity'] = df['Mar Humidity'].astype(float, errors = 'raise')\n",
    "df['Apr Humidity'] = df['Apr Humidity'].astype(float, errors = 'raise')\n",
    "df['May Humidity'] = df['May Humidity'].astype(float, errors = 'raise')\n",
    "df['Jun Humidity'] = df['Jun Humidity'].astype(float, errors = 'raise')\n",
    "df['Jul Humidity'] = df['Jul Humidity'].astype(float, errors = 'raise')\n",
    "df['Aug Humidity'] = df['Aug Humidity'].astype(float, errors = 'raise')\n",
    "df['Sep Humidity'] = df['Sep Humidity'].astype(float, errors = 'raise')\n",
    "df['Oct Humidity'] = df['Oct Humidity'].astype(float, errors = 'raise')\n",
    "df['Nov Humidity'] = df['Nov Humidity'].astype(float, errors = 'raise')\n",
    "df['Dec Humidity'] = df['Dec Humidity'].astype(float, errors = 'raise')"
   ]
  },
  {
   "cell_type": "code",
   "execution_count": null,
   "metadata": {},
   "outputs": [],
   "source": [
    "df = df[df.Key != 'Coimbatore']\n",
    "df = df[df.Key != 'Monterrey']\n",
    "df = df[df.Key != 'Tianjin']\n",
    "df = df[df.Key != 'Beijing']\n",
    "\n",
    "df = df[df.Key != 'Brisbane']\n",
    "df = df[df.Key != 'Guangzhou']\n",
    "df = df[df.Key != 'Perth']\n",
    "df = df[df.Key != 'Sydney']\n",
    "\n",
    "df = df[df.Key != 'Krasnodar']\n",
    "\n",
    "\n",
    "df = df.reset_index(drop=True)\n",
    "df"
   ]
  },
  {
   "cell_type": "code",
   "execution_count": null,
   "metadata": {},
   "outputs": [],
   "source": [
    "kmeans = KMeans(n_clusters=4).fit(df[[\"Jan Temperature\", \"Feb Temperature\", \"Mar Temperature\", \"Apr Temperature\",\n",
    "   \"May Temperature\", \"Jun Temperature\", \"Jul Temperature\", \n",
    "   \"Aug Temperature\", \"Sep Temperature\", \"Oct Temperature\", \n",
    "   \"Nov Temperature\", \"Dec Temperature\", \"Jan Humidity\", \"Feb Humidity\", \"Mar Humidity\", \"Apr Humidity\",\n",
    "   \"May Humidity\", \"Jun Humidity\", \"Jul Humidity\", \n",
    "   \"Aug Humidity\", \"Sep Humidity\", \"Oct Humidity\", \n",
    "   \"Nov Humidity\", \"Dec Humidity\"]])\n",
    "centroids = kmeans.cluster_centers_\n",
    "print(centroids)\n",
    "\n",
    "plt.scatter(df['Jan Temperature'], df['Jan Humidity'], c= kmeans.labels_.astype(float), s=50, alpha=0.5)\n",
    "plt.scatter(centroids[:, 0], centroids[:, 12], c='red', s=50)\n",
    "plt.show()"
   ]
  },
  {
   "cell_type": "code",
   "execution_count": null,
   "metadata": {},
   "outputs": [],
   "source": [
    "distortions = []\n",
    "K = range(1,15)\n",
    "for k in K:\n",
    "    kmeanModel = KMeans(n_clusters=k)\n",
    "    kmeanModel.fit(df[[\"Jan Temperature\", \"Feb Temperature\", \"Mar Temperature\", \"Apr Temperature\",\n",
    "   \"May Temperature\", \"Jun Temperature\", \"Jul Temperature\", \n",
    "   \"Aug Temperature\", \"Sep Temperature\", \"Oct Temperature\", \n",
    "   \"Nov Temperature\", \"Dec Temperature\", \"Jan Humidity\", \"Feb Humidity\", \"Mar Humidity\", \"Apr Humidity\",\n",
    "   \"May Humidity\", \"Jun Humidity\", \"Jul Humidity\", \n",
    "   \"Aug Humidity\", \"Sep Humidity\", \"Oct Humidity\", \n",
    "   \"Nov Humidity\", \"Dec Humidity\"]])\n",
    "    distortions.append(kmeanModel.inertia_)\n",
    "\n",
    "plt.figure(figsize=(16,8))\n",
    "plt.plot(K, distortions, 'bx-')\n",
    "plt.xlabel('k')\n",
    "plt.ylabel('Distortion')\n",
    "plt.title('The Elbow Method showing the optimal k')\n",
    "plt.show()"
   ]
  },
  {
   "cell_type": "code",
   "execution_count": null,
   "metadata": {},
   "outputs": [],
   "source": [
    "# # outliers detection\n",
    "# # Extract the Features from the Data\n",
    "# X = pd.DataFrame(df[[\"Jan Temperature\", \"Feb Temperature\", \"Mar Temperature\", \"Apr Temperature\",\n",
    "#    \"May Temperature\", \"Jun Temperature\", \"Jul Temperature\", \n",
    "#    \"Aug Temperature\", \"Sep Temperature\", \"Oct Temperature\", \n",
    "#    \"Nov Temperature\", \"Dec Temperature\", \"Jan Humidity\", \"Feb Humidity\", \"Mar Humidity\", \"Apr Humidity\",\n",
    "#    \"May Humidity\", \"Jun Humidity\", \"Jul Humidity\", \n",
    "#    \"Aug Humidity\", \"Sep Humidity\", \"Oct Humidity\", \n",
    "#    \"Nov Humidity\", \"Dec Humidity\"]])\n",
    "                           \n",
    "# # Plot the Raw Data on a 2D grid\n",
    "# f, axes = plt.subplots(1, 1, figsize=(8,4))\n",
    "# plt.scatter(x = \"Jan Temperature\", y = \"Jan Humidity\", data = X)   "
   ]
  },
  {
   "cell_type": "code",
   "execution_count": null,
   "metadata": {},
   "outputs": [],
   "source": [
    "# # Import LocalOutlierFactor from sklearn.neighbors\n",
    "# from sklearn.neighbors import LocalOutlierFactor\n",
    "\n",
    "# # Set the Parameters for Neighborhood\n",
    "# num_neighbors = 30      # Number of Neighbors\n",
    "# cont_fraction = 0.05    # Fraction of Anomalies\n",
    "\n",
    "# # Create Anomaly Detection Model using LocalOutlierFactor\n",
    "# lof = LocalOutlierFactor(n_neighbors = num_neighbors, contamination = cont_fraction)\n",
    "\n",
    "# # Fit the Model on the Data and Predict Anomalies\n",
    "# lof.fit(X)"
   ]
  },
  {
   "cell_type": "code",
   "execution_count": null,
   "metadata": {},
   "outputs": [],
   "source": [
    "# # Predict the Anomalies\n",
    "# labels = lof.fit_predict(X)\n",
    "\n",
    "# # Append Labels to the Data\n",
    "# X_labeled = X.copy()\n",
    "# X_labeled[\"Anomaly\"] = pd.Categorical(labels)\n",
    "\n",
    "# # Summary of the Anomaly Labels\n",
    "# sb.countplot(X_labeled[\"Anomaly\"])"
   ]
  },
  {
   "cell_type": "code",
   "execution_count": null,
   "metadata": {},
   "outputs": [],
   "source": [
    "# # Visualize the Anomalies in the Data\n",
    "# f, axes = plt.subplots(1, 1, figsize=(8,4))\n",
    "# plt.scatter(x = \"Jan Temperature\", y = \"Jan Humidity\", c = \"Anomaly\", cmap = 'viridis', data = X_labeled)"
   ]
  },
  {
   "cell_type": "code",
   "execution_count": null,
   "metadata": {},
   "outputs": [],
   "source": [
    "# pip install ipympl necessary to run matplotlib widget\n",
    "# pip install mplcursors required to run mplcursors\n",
    "\n",
    "import mplcursors\n",
    "%matplotlib notebook\n",
    "%matplotlib widget\n",
    "\n",
    "fig, ax = plt.subplots()\n",
    "sc = ax.scatter(df['Jan Temperature'],df['Jan Humidity'], c= kmeans.labels_.astype(float), s=50, alpha=0.5)\n",
    "plt.scatter(centroids[:, 0], centroids[:, 12], c='red', s=50)\n",
    "\n",
    "cursor = mplcursors.cursor(sc, hover=True)\n",
    "\n",
    "@cursor.connect(\"add\")\n",
    "\n",
    "def on_add(sel):\n",
    "    sel.annotation.set(text=(df['Key'].values)[sel.target.index])\n",
    "    \n",
    "plt.show()"
   ]
  },
  {
   "cell_type": "code",
   "execution_count": null,
   "metadata": {},
   "outputs": [],
   "source": [
    "fig, ax = plt.subplots()\n",
    "sc = ax.scatter(df['Nov Temperature'],df['Nov Humidity'], c= kmeans.labels_.astype(float), s=50, alpha=0.5)\n",
    "plt.scatter(centroids[:, 10], centroids[:, 22], c='red', s=50)\n",
    "\n",
    "cursor = mplcursors.cursor(sc, hover=True)\n",
    "\n",
    "@cursor.connect(\"add\")\n",
    "\n",
    "def on_add(sel):\n",
    "    sel.annotation.set(text=(df['Key'].values)[sel.target.index])\n",
    "    \n",
    "plt.show()"
   ]
  },
  {
   "cell_type": "code",
   "execution_count": null,
   "metadata": {},
   "outputs": [],
   "source": []
  }
 ],
 "metadata": {
  "kernelspec": {
   "display_name": "Python 3",
   "language": "python",
   "name": "python3"
  },
  "language_info": {
   "codemirror_mode": {
    "name": "ipython",
    "version": 3
   },
   "file_extension": ".py",
   "mimetype": "text/x-python",
   "name": "python",
   "nbconvert_exporter": "python",
   "pygments_lexer": "ipython3",
   "version": "3.8.5"
  }
 },
 "nbformat": 4,
 "nbformat_minor": 4
}
